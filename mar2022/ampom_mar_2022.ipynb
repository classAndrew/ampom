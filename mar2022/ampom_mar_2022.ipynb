{
 "cells": [
  {
   "cell_type": "markdown",
   "metadata": {},
   "source": [
    "# UCM Applied Mathematics Department's Problem of the Month\n",
    "\n",
    "March 2022\n",
    "\n",
    "Andrew Lin"
   ]
  },
  {
   "cell_type": "markdown",
   "metadata": {},
   "source": [
    "## The problem\n",
    "\n",
    "All code and data is found [here](https://github.com/classAndrew/ampom/tree/main/mar2022).\n",
    "\n",
    "Can you arrange integers 1 to 32 in a circle such that adjacent sums add to a perfect square?\n",
    "\n",
    "Solution: Here's one of the 64 ways\n",
    "`1 8 28 21 4 32 17 19 30 6 3 13 12 24 25 11 5 31 18 7 29 20 16 9 27 22 14 2 23 26 10 15`\n",
    "\n",
    "\n"
   ]
  },
  {
   "cell_type": "markdown",
   "metadata": {},
   "source": [
    "## The Simpler, Linear Case\n",
    "\n",
    "The example provided for numbers 1 to 15 is useful:\n",
    "\n",
    "`8,1,15,10,6,3,13,12,4,5,11,14,2,7,9`\n",
    "\n",
    "is a sequence such that the problem statement is *almost* satisfied. I will call this **linearly satisfied**.\n",
    "\n",
    "If a circular arrangement is found, then it is **circularly satisfied**.\n",
    "\n",
    "### Definitions\n",
    "\n",
    "Let $\\mathbb{P}$ be the set of perfect squares that can be formed from the sum of two numbers from $1$ through $n$.\n",
    "\n",
    "Let $a = a_0,a_1,a_2,..., a_{n-1} $ be the sequence of $n$ elements such that for $1\\le i \\le n-1$ and $a_{i-1}+a_i \\in \\mathbb{P}$.\n",
    "\n",
    "In other words, $a$ is a sequence that is *linearly satisfied*.\n",
    "\n",
    "$a$ is *circularly satisfied* when $a_{n-1}+a_0 \\in \\mathbb{P}$\n"
   ]
  },
  {
   "cell_type": "markdown",
   "metadata": {},
   "source": [
    "### Initial Tests\n",
    "\n",
    "`8,1,15,10,6,3,13,12,4,5,11,14,2,7,9`  is a permutation of  `1,2,3,4,5,6,7,8,9,10,11,12,13,14,15`,\n",
    "\n",
    "let's see how many iterations a computer would roughly have to do. (Remember, 15! permutations times 15 checks)"
   ]
  },
  {
   "cell_type": "code",
   "execution_count": 1,
   "metadata": {},
   "outputs": [
    {
     "data": {
      "text/plain": [
       "19615115520000"
      ]
     },
     "execution_count": 1,
     "metadata": {},
     "output_type": "execute_result"
    }
   ],
   "source": [
    "from math import factorial; factorial(15)*15"
   ]
  },
  {
   "cell_type": "markdown",
   "metadata": {},
   "source": [
    "It'll take roughly 6 hours for a computer to find such a permutation by naively bruteforcing, and this is just for 16 elements... so let's apply some critical reasoning to help speed things up."
   ]
  },
  {
   "cell_type": "markdown",
   "metadata": {},
   "source": [
    "## Backtracking\n",
    "\n",
    "Backtracking is a type of optimized bruteforce that is implemented as a recursive algorithm. The most famous example is the N-Queens problem: How many ways can you rearrange N-Queens on an $N \\times N$ chess board without any of the queens attacking each other?\n",
    "\n",
    "The recursive invariant of the N-Queens problem is that only the next queen's placement matters because all the previous queens are assumed to not attack each other.\n",
    "\n",
    "The recursive invariant of this month's problem is that we only care about the last element of the sequence because all the previous numbers are assumed to be *linearly satisfied*\n",
    "\n",
    "Take the example:\n",
    "\n",
    "`8,1,15,6`\n",
    "\n",
    "It wouldn't make any sense for the next number to be a $2$ because $6+2=8 \\not\\in \\mathbb{P}$. So the next number has to sum to a number in $\\mathbb{P}$. $3$ could work as a next choice because $3+6=9 \\in \\mathbb{P}$. If we don't have any numbers left, we backtrack by removing the last number and trying a different number."
   ]
  },
  {
   "cell_type": "markdown",
   "metadata": {},
   "source": [
    "### One more thing...\n",
    "\n",
    "We still don't know what $\\mathbb{P}$ is yet. Let's just assume that it's the range of perfect squares formed by the smallest perfect square of any two ($4$, because $0$ cannot be in the sequence so $1$ is not a possible choice) and the largest perfect square that you can make from two numbers in the sequence (which is the largest square less than $2N-1$)\n",
    "\n",
    "I get $2N-1$ from adding the largest two in the sequence\n",
    "\n",
    "So our case for $N=15$,  $\\mathbb{P} = \\{4, 9, 16, 25\\}$\n",
    "\n",
    "The first element in the sequence can be anything from $1$ to $N$"
   ]
  },
  {
   "cell_type": "markdown",
   "metadata": {},
   "source": [
    "## Some implementation details\n",
    "\n",
    "I implemented this algorithm in C++ to be as fast as possible thinking that it'd still take a few hours for the $N=32$ case.\n",
    "\n",
    "I was completely wrong... the program finished running in a tenth of a second.\n",
    "\n",
    "### Implementation notes\n",
    "I used a bitset which is a bithack that determines if some value that can be mapped to an integer is inside a set. Set operations like checking for existence, insertion, and removal are *unbelievably* fast on bitsets. The problem asks for $N=32$ which is just 1 bit from the limit of a 4 byte int!\n",
    "\n",
    "The base case is hit and a sequence that is *linearly satisfied* is found when $i=N$.\n",
    "\n",
    "An implicit base case is hit when no numbers are available that add to a perfect square.\n",
    "\n",
    "Indexing starts at 0, so the index for the bitset must be shifted down one."
   ]
  },
  {
   "cell_type": "markdown",
   "metadata": {},
   "source": [
    "```cpp\n",
    "#include <iostream>\n",
    "\n",
    "using namespace std;\n",
    "\n",
    "const uint32_t N = 32;\n",
    "\n",
    "int sequence[N] = {};\n",
    "// 0=free, 1=used\n",
    "uint64_t bitset = 0;\n",
    "\n",
    "uint32_t P_len = 6;\n",
    "const int P[] = {4, 9, 16, 25, 36, 49};\n",
    "\n",
    "void backtrack(int i) {\n",
    "    if (i == N) {\n",
    "        // we made it \n",
    "        for (int i = 0; i < N; i++) cout << sequence[i] << ' ';\n",
    "        cout <<'\\n';\n",
    "        return;\n",
    "    }\n",
    "\n",
    "    for (int j = 0; j < P_len; j++) {\n",
    "        int next = P[j]-sequence[i-1];\n",
    "        // next is taken\n",
    "        if (next <= 0 || next > N || bitset & (1 << (next-1))) continue;\n",
    "\n",
    "        sequence[i] = next;\n",
    "        bitset |= (1 << (next-1));\n",
    "        backtrack(i+1);\n",
    "        bitset &= ~(1 << (next-1));\n",
    "    }\n",
    "\n",
    "    // there's nothing left to do\n",
    "}\n",
    "\n",
    "int main() {\n",
    "    for (int i = 0; i < N; i++) {\n",
    "        sequence[0] = i+1;\n",
    "        bitset |= (1 << i);\n",
    "        backtrack(1);\n",
    "        bitset &= ~(1 << i);\n",
    "    }\n",
    "}\n",
    "```"
   ]
  },
  {
   "cell_type": "code",
   "execution_count": 4,
   "metadata": {},
   "outputs": [
    {
     "name": "stdout",
     "output_type": "stream",
     "text": [
      "1 8 28 21 4 32 17 19 30 6 3 13 12 24 25 11 5 31 18 7 29 20 16 9 27 22 14 2 23 26 10 15\n",
      "1 15 10 26 23 2 14 22 27 9 16 20 29 7 18 31 5 11 25 24 12 13 3 6 30 19 17 32 4 21 28 8\n",
      "2 14 22 27 9 16 20 29 7 18 31 5 11 25 24 12 13 3 6 30 19 17 32 4 21 28 8 1 15 10 26 23\n",
      "2 23 26 10 15 1 8 28 21 4 32 17 19 30 6 3 13 12 24 25 11 5 31 18 7 29 20 16 9 27 22 14\n",
      "3 6 30 19 17 32 4 21 28 8 1 15 10 26 23 2 14 22 27 9 16 20 29 7 18 31 5 11 25 24 12 13\n",
      "3 13 12 24 25 11 5 31 18 7 29 20 16 9 27 22 14 2 23 26 10 15 1 8 28 21 4 32 17 19 30 6\n",
      "4 21 28 8 1 15 10 26 23 2 14 22 27 9 16 20 29 7 18 31 5 11 25 24 12 13 3 6 30 19 17 32\n",
      "4 32 17 19 30 6 3 13 12 24 25 11 5 31 18 7 29 20 16 9 27 22 14 2 23 26 10 15 1 8 28 21\n",
      "5 11 25 24 12 13 3 6 30 19 17 32 4 21 28 8 1 15 10 26 23 2 14 22 27 9 16 20 29 7 18 31\n",
      "5 31 18 7 29 20 16 9 27 22 14 2 23 26 10 15 1 8 28 21 4 32 17 19 30 6 3 13 12 24 25 11\n",
      "6 3 13 12 24 25 11 5 31 18 7 29 20 16 9 27 22 14 2 23 26 10 15 1 8 28 21 4 32 17 19 30\n",
      "6 30 19 17 32 4 21 28 8 1 15 10 26 23 2 14 22 27 9 16 20 29 7 18 31 5 11 25 24 12 13 3\n",
      "7 18 31 5 11 25 24 12 13 3 6 30 19 17 32 4 21 28 8 1 15 10 26 23 2 14 22 27 9 16 20 29\n",
      "7 29 20 16 9 27 22 14 2 23 26 10 15 1 8 28 21 4 32 17 19 30 6 3 13 12 24 25 11 5 31 18\n",
      "8 1 15 10 26 23 2 14 22 27 9 16 20 29 7 18 31 5 11 25 24 12 13 3 6 30 19 17 32 4 21 28\n",
      "8 28 21 4 32 17 19 30 6 3 13 12 24 25 11 5 31 18 7 29 20 16 9 27 22 14 2 23 26 10 15 1\n",
      "9 16 20 29 7 18 31 5 11 25 24 12 13 3 6 30 19 17 32 4 21 28 8 1 15 10 26 23 2 14 22 27\n",
      "9 27 22 14 2 23 26 10 15 1 8 28 21 4 32 17 19 30 6 3 13 12 24 25 11 5 31 18 7 29 20 16\n",
      "10 15 1 8 28 21 4 32 17 19 30 6 3 13 12 24 25 11 5 31 18 7 29 20 16 9 27 22 14 2 23 26\n",
      "10 26 23 2 14 22 27 9 16 20 29 7 18 31 5 11 25 24 12 13 3 6 30 19 17 32 4 21 28 8 1 15\n",
      "11 5 31 18 7 29 20 16 9 27 22 14 2 23 26 10 15 1 8 28 21 4 32 17 19 30 6 3 13 12 24 25\n",
      "11 25 24 12 13 3 6 30 19 17 32 4 21 28 8 1 15 10 26 23 2 14 22 27 9 16 20 29 7 18 31 5\n",
      "12 13 3 6 30 19 17 32 4 21 28 8 1 15 10 26 23 2 14 22 27 9 16 20 29 7 18 31 5 11 25 24\n",
      "12 24 25 11 5 31 18 7 29 20 16 9 27 22 14 2 23 26 10 15 1 8 28 21 4 32 17 19 30 6 3 13\n",
      "13 3 6 30 19 17 32 4 21 28 8 1 15 10 26 23 2 14 22 27 9 16 20 29 7 18 31 5 11 25 24 12\n",
      "13 12 24 25 11 5 31 18 7 29 20 16 9 27 22 14 2 23 26 10 15 1 8 28 21 4 32 17 19 30 6 3\n",
      "14 2 23 26 10 15 1 8 28 21 4 32 17 19 30 6 3 13 12 24 25 11 5 31 18 7 29 20 16 9 27 22\n",
      "14 22 27 9 16 20 29 7 18 31 5 11 25 24 12 13 3 6 30 19 17 32 4 21 28 8 1 15 10 26 23 2\n",
      "15 1 8 28 21 4 32 17 19 30 6 3 13 12 24 25 11 5 31 18 7 29 20 16 9 27 22 14 2 23 26 10\n",
      "15 10 26 23 2 14 22 27 9 16 20 29 7 18 31 5 11 25 24 12 13 3 6 30 19 17 32 4 21 28 8 1\n",
      "16 9 27 22 14 2 23 26 10 15 1 8 28 21 4 32 17 19 30 6 3 13 12 24 25 11 5 31 18 7 29 20\n",
      "16 20 29 7 18 31 5 11 25 24 12 13 3 6 30 19 17 32 4 21 28 8 1 15 10 26 23 2 14 22 27 9\n",
      "17 19 30 6 3 13 12 24 25 11 5 31 18 7 29 20 16 9 27 22 14 2 23 26 10 15 1 8 28 21 4 32\n",
      "17 32 4 21 28 8 1 15 10 26 23 2 14 22 27 9 16 20 29 7 18 31 5 11 25 24 12 13 3 6 30 19\n",
      "18 7 29 20 16 9 27 22 14 2 23 26 10 15 1 8 28 21 4 32 17 19 30 6 3 13 12 24 25 11 5 31\n",
      "18 31 5 11 25 24 12 13 3 6 30 19 17 32 4 21 28 8 1 15 10 26 23 2 14 22 27 9 16 20 29 7\n",
      "19 17 32 4 21 28 8 1 15 10 26 23 2 14 22 27 9 16 20 29 7 18 31 5 11 25 24 12 13 3 6 30\n",
      "19 30 6 3 13 12 24 25 11 5 31 18 7 29 20 16 9 27 22 14 2 23 26 10 15 1 8 28 21 4 32 17\n",
      "20 16 9 27 22 14 2 23 26 10 15 1 8 28 21 4 32 17 19 30 6 3 13 12 24 25 11 5 31 18 7 29\n",
      "20 29 7 18 31 5 11 25 24 12 13 3 6 30 19 17 32 4 21 28 8 1 15 10 26 23 2 14 22 27 9 16\n",
      "21 4 32 17 19 30 6 3 13 12 24 25 11 5 31 18 7 29 20 16 9 27 22 14 2 23 26 10 15 1 8 28\n",
      "21 28 8 1 15 10 26 23 2 14 22 27 9 16 20 29 7 18 31 5 11 25 24 12 13 3 6 30 19 17 32 4\n",
      "22 14 2 23 26 10 15 1 8 28 21 4 32 17 19 30 6 3 13 12 24 25 11 5 31 18 7 29 20 16 9 27\n",
      "22 27 9 16 20 29 7 18 31 5 11 25 24 12 13 3 6 30 19 17 32 4 21 28 8 1 15 10 26 23 2 14\n",
      "23 2 14 22 27 9 16 20 29 7 18 31 5 11 25 24 12 13 3 6 30 19 17 32 4 21 28 8 1 15 10 26\n",
      "23 26 10 15 1 8 28 21 4 32 17 19 30 6 3 13 12 24 25 11 5 31 18 7 29 20 16 9 27 22 14 2\n",
      "24 12 13 3 6 30 19 17 32 4 21 28 8 1 15 10 26 23 2 14 22 27 9 16 20 29 7 18 31 5 11 25\n",
      "24 25 11 5 31 18 7 29 20 16 9 27 22 14 2 23 26 10 15 1 8 28 21 4 32 17 19 30 6 3 13 12\n",
      "25 11 5 31 18 7 29 20 16 9 27 22 14 2 23 26 10 15 1 8 28 21 4 32 17 19 30 6 3 13 12 24\n",
      "25 24 12 13 3 6 30 19 17 32 4 21 28 8 1 15 10 26 23 2 14 22 27 9 16 20 29 7 18 31 5 11\n",
      "26 10 15 1 8 28 21 4 32 17 19 30 6 3 13 12 24 25 11 5 31 18 7 29 20 16 9 27 22 14 2 23\n",
      "26 23 2 14 22 27 9 16 20 29 7 18 31 5 11 25 24 12 13 3 6 30 19 17 32 4 21 28 8 1 15 10\n",
      "27 9 16 20 29 7 18 31 5 11 25 24 12 13 3 6 30 19 17 32 4 21 28 8 1 15 10 26 23 2 14 22\n",
      "27 22 14 2 23 26 10 15 1 8 28 21 4 32 17 19 30 6 3 13 12 24 25 11 5 31 18 7 29 20 16 9\n",
      "28 8 1 15 10 26 23 2 14 22 27 9 16 20 29 7 18 31 5 11 25 24 12 13 3 6 30 19 17 32 4 21\n",
      "28 21 4 32 17 19 30 6 3 13 12 24 25 11 5 31 18 7 29 20 16 9 27 22 14 2 23 26 10 15 1 8\n",
      "29 7 18 31 5 11 25 24 12 13 3 6 30 19 17 32 4 21 28 8 1 15 10 26 23 2 14 22 27 9 16 20\n",
      "29 20 16 9 27 22 14 2 23 26 10 15 1 8 28 21 4 32 17 19 30 6 3 13 12 24 25 11 5 31 18 7\n",
      "30 6 3 13 12 24 25 11 5 31 18 7 29 20 16 9 27 22 14 2 23 26 10 15 1 8 28 21 4 32 17 19\n",
      "30 19 17 32 4 21 28 8 1 15 10 26 23 2 14 22 27 9 16 20 29 7 18 31 5 11 25 24 12 13 3 6\n",
      "31 5 11 25 24 12 13 3 6 30 19 17 32 4 21 28 8 1 15 10 26 23 2 14 22 27 9 16 20 29 7 18\n",
      "31 18 7 29 20 16 9 27 22 14 2 23 26 10 15 1 8 28 21 4 32 17 19 30 6 3 13 12 24 25 11 5\n",
      "32 4 21 28 8 1 15 10 26 23 2 14 22 27 9 16 20 29 7 18 31 5 11 25 24 12 13 3 6 30 19 17\n",
      "32 17 19 30 6 3 13 12 24 25 11 5 31 18 7 29 20 16 9 27 22 14 2 23 26 10 15 1 8 28 21 4\n"
     ]
    }
   ],
   "source": [
    "# checking for circularly satisfied\n",
    "circular = []\n",
    "P = {4, 9, 16, 25, 36, 49}\n",
    "with open(\"linear_square.txt\") as f:\n",
    "   linear = [[int(y) for y in x.split(' ')[:-1]] for x in f.read().split('\\n')]\n",
    "for seq in linear:\n",
    "    if seq[-1]+seq[0] in P: circular.append(seq)\n",
    "\n",
    "print('\\n'.join(' '.join(map(str, x)) for x in circular))"
   ]
  },
  {
   "cell_type": "markdown",
   "metadata": {},
   "source": [
    "### Results\n",
    "There are **784** *linearly satisfied* sequences,\n",
    "**64** of which are *circularly satisfied* sequences."
   ]
  }
 ],
 "metadata": {
  "interpreter": {
   "hash": "31f2aee4e71d21fbe5cf8b01ff0e069b9275f58929596ceb00d14d90e3e16cd6"
  },
  "kernelspec": {
   "display_name": "Python 3.8.10 64-bit",
   "language": "python",
   "name": "python3"
  },
  "language_info": {
   "codemirror_mode": {
    "name": "ipython",
    "version": 3
   },
   "file_extension": ".py",
   "mimetype": "text/x-python",
   "name": "python",
   "nbconvert_exporter": "python",
   "pygments_lexer": "ipython3",
   "version": "3.8.10"
  },
  "orig_nbformat": 4
 },
 "nbformat": 4,
 "nbformat_minor": 2
}
